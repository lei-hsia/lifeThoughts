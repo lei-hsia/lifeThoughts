{
 "cells": [
  {
   "cell_type": "markdown",
   "metadata": {},
   "source": [
    "# Two_model_TextCNN_&_BiGRU"
   ]
  },
  {
   "cell_type": "markdown",
   "metadata": {},
   "source": [
    "## 1、initial preparation work"
   ]
  },
  {
   "cell_type": "markdown",
   "metadata": {},
   "source": [
    "### import related packages"
   ]
  },
  {
   "cell_type": "code",
   "execution_count": 43,
   "metadata": {},
   "outputs": [],
   "source": [
    "# import related packages\n",
    "from keras.preprocessing.sequence import pad_sequences\n",
    "from keras.preprocessing.text import Tokenizer\n",
    "from keras.layers.merge import concatenate\n",
    "from keras.models import  Model\n",
    "from keras.layers import Dense, Embedding, Input,PReLU,add,Bidirectional\n",
    "from keras.layers import Convolution1D, Flatten, Dropout,MaxPooling1D,GlobalMaxPooling1D,GRU,SpatialDropout1D,Conv1D\n",
    "from keras.layers import BatchNormalization\n",
    "from keras.utils.np_utils import to_categorical\n",
    "from itertools import cycle\n",
    "import pandas as pd\n",
    "import numpy as np\n",
    "from sklearn.model_selection import train_test_split\n",
    "from sklearn.preprocessing import LabelEncoder,label_binarize\n",
    "from gensim.models import word2vec\n",
    "import pickle\n",
    "from gensim.models import KeyedVectors\n",
    "import matplotlib.pyplot as plt\n",
    "from keras.callbacks import EarlyStopping,ModelCheckpoint\n",
    "from sklearn.model_selection import KFold,StratifiedKFold\n",
    "import keras.backend.tensorflow_backend as KTF\n",
    "import tensorflow as tf\n",
    "from sklearn.metrics import recall_score,precision_score,roc_curve, auc\n",
    "import os\n",
    "from scipy import interp"
   ]
  },
  {
   "cell_type": "markdown",
   "metadata": {},
   "source": [
    "### USING GPU OR NOT"
   ]
  },
  {
   "cell_type": "code",
   "execution_count": 2,
   "metadata": {},
   "outputs": [],
   "source": [
    "# If you need to use a GPU, execute the following code\n",
    "os.environ[\"CUDA_VISIBLE_DEVICES\"] = \"0\"\n",
    "config = tf.ConfigProto()\n",
    "config.gpu_options.allow_growth=True\n",
    "# Not fully occupied by video memory, allocated on demand\n",
    "sess = tf.Session(config=config)\n",
    "KTF.set_session(sess)"
   ]
  },
  {
   "cell_type": "markdown",
   "metadata": {},
   "source": [
    "### Setting related parameters"
   ]
  },
  {
   "cell_type": "code",
   "execution_count": 3,
   "metadata": {},
   "outputs": [],
   "source": [
    "# define max_sequence length、max_num_words、embedding_dim\n",
    "MAX_SEQUENCE_LENGTH = 110\n",
    "MAX_NB_WORDS = 20000\n",
    "EMBEDDING_DIM = 100"
   ]
  },
  {
   "cell_type": "code",
   "execution_count": 4,
   "metadata": {},
   "outputs": [],
   "source": [
    "# DPCNN parameters\n",
    "filter_nr = 64\n",
    "filter_size = 3\n",
    "max_pool_size = 3\n",
    "max_pool_strides = 2\n",
    "dense_nr = 256\n",
    "spatial_dropout = 0.2\n",
    "dense_dropout = 0.5\n",
    "train_embed = False"
   ]
  },
  {
   "cell_type": "markdown",
   "metadata": {},
   "source": [
    "### Read data"
   ]
  },
  {
   "cell_type": "code",
   "execution_count": 5,
   "metadata": {},
   "outputs": [],
   "source": [
    "# read dataset and set header names\n",
    "data = pd.read_csv('./data/data.csv')"
   ]
  },
  {
   "cell_type": "code",
   "execution_count": 6,
   "metadata": {},
   "outputs": [
    {
     "data": {
      "text/html": [
       "<div>\n",
       "<style scoped>\n",
       "    .dataframe tbody tr th:only-of-type {\n",
       "        vertical-align: middle;\n",
       "    }\n",
       "\n",
       "    .dataframe tbody tr th {\n",
       "        vertical-align: top;\n",
       "    }\n",
       "\n",
       "    .dataframe thead th {\n",
       "        text-align: right;\n",
       "    }\n",
       "</style>\n",
       "<table border=\"1\" class=\"dataframe\">\n",
       "  <thead>\n",
       "    <tr style=\"text-align: right;\">\n",
       "      <th></th>\n",
       "      <th>label</th>\n",
       "      <th>tweet</th>\n",
       "    </tr>\n",
       "  </thead>\n",
       "  <tbody>\n",
       "    <tr>\n",
       "      <th>0</th>\n",
       "      <td>2</td>\n",
       "      <td>jami mccarthi dimitrio kambouri</td>\n",
       "    </tr>\n",
       "    <tr>\n",
       "      <th>1</th>\n",
       "      <td>1</td>\n",
       "      <td>proud join year mission call speak</td>\n",
       "    </tr>\n",
       "    <tr>\n",
       "      <th>2</th>\n",
       "      <td>2</td>\n",
       "      <td>thank share stori need we'r almost goal pleas ...</td>\n",
       "    </tr>\n",
       "    <tr>\n",
       "      <th>3</th>\n",
       "      <td>2</td>\n",
       "      <td>can't believ soundtrack shallow number week pr...</td>\n",
       "    </tr>\n",
       "    <tr>\n",
       "      <th>4</th>\n",
       "      <td>1</td>\n",
       "      <td>we'r halfway goal pleas consid contribut celeb...</td>\n",
       "    </tr>\n",
       "  </tbody>\n",
       "</table>\n",
       "</div>"
      ],
      "text/plain": [
       "   label                                              tweet\n",
       "0      2                    jami mccarthi dimitrio kambouri\n",
       "1      1                 proud join year mission call speak\n",
       "2      2  thank share stori need we'r almost goal pleas ...\n",
       "3      2  can't believ soundtrack shallow number week pr...\n",
       "4      1  we'r halfway goal pleas consid contribut celeb..."
      ]
     },
     "execution_count": 6,
     "metadata": {},
     "output_type": "execute_result"
    }
   ],
   "source": [
    "# view top5 data\n",
    "data.head()"
   ]
  },
  {
   "cell_type": "code",
   "execution_count": 79,
   "metadata": {},
   "outputs": [
    {
     "data": {
      "text/plain": [
       "label\n",
       "0    1275\n",
       "1    4884\n",
       "2    2466\n",
       "Name: label, dtype: int64"
      ]
     },
     "execution_count": 79,
     "metadata": {},
     "output_type": "execute_result"
    }
   ],
   "source": [
    "# 0-nagative    1-positive     2-Neutral\n",
    "data.groupby('label')['label'].size()"
   ]
  },
  {
   "cell_type": "code",
   "execution_count": 77,
   "metadata": {},
   "outputs": [
    {
     "data": {
      "text/plain": [
       "<matplotlib.axes._subplots.AxesSubplot at 0x7f887db4a438>"
      ]
     },
     "execution_count": 77,
     "metadata": {},
     "output_type": "execute_result"
    },
    {
     "data": {
      "image/png": "[encoded data removed]",
      "text/plain": [
       "<Figure size 360x216 with 1 Axes>"
      ]
     },
     "metadata": {
      "needs_background": "light"
     },
     "output_type": "display_data"
    }
   ],
   "source": [
    "data.groupby('label')['label'].size().plot(kind='bar', figsize=(5, 3))"
   ]
  },
  {
   "cell_type": "code",
   "execution_count": 7,
   "metadata": {},
   "outputs": [
    {
     "data": {
      "text/plain": [
       "8625"
      ]
     },
     "execution_count": 7,
     "metadata": {},
     "output_type": "execute_result"
    }
   ],
   "source": [
    "# the number of sample\n",
    "len(data)"
   ]
  },
  {
   "cell_type": "markdown",
   "metadata": {},
   "source": [
    "### Split the dataset and Process the data"
   ]
  },
  {
   "cell_type": "code",
   "execution_count": 8,
   "metadata": {},
   "outputs": [],
   "source": [
    "# split the dataset to train data and test data\n",
    "X_train, X_test, Y_train, Y_test = train_test_split(data['tweet'],data['label'], test_size=0.1,random_state=1234)"
   ]
  },
  {
   "cell_type": "code",
   "execution_count": 9,
   "metadata": {},
   "outputs": [
    {
     "name": "stdout",
     "output_type": "stream",
     "text": [
      "(7762, 110) (863, 110)\n"
     ]
    }
   ],
   "source": [
    "# Processing the data, including labeling the label and digitizing the data\n",
    "y_labels = list(Y_train.value_counts().index)\n",
    "le = LabelEncoder()\n",
    "le.fit(y_labels)\n",
    "num_labels = len(y_labels)\n",
    "y_train = to_categorical(Y_train.map(lambda x: le.transform([x])[0]), num_labels)\n",
    "y_test = to_categorical(Y_test.map(lambda x: le.transform([x])[0]), num_labels)\n",
    "\n",
    "# Word segmentation, build word-id dictionary\n",
    "tokenizer = Tokenizer()\n",
    "tokenizer.fit_on_texts(data['tweet'])\n",
    "vocab = tokenizer.word_index\n",
    "\n",
    "# Numericalize each word\n",
    "X_train_word_ids = tokenizer.texts_to_sequences(X_train)\n",
    "X_test_word_ids = tokenizer.texts_to_sequences(X_test)\n",
    "\n",
    "# Padding each sequence with a length less than the maximum sequence length\n",
    "x_train = pad_sequences(X_train_word_ids, maxlen=MAX_SEQUENCE_LENGTH)\n",
    "x_test = pad_sequences(X_test_word_ids, maxlen=MAX_SEQUENCE_LENGTH)\n",
    "print(x_train.shape, x_test.shape)"
   ]
  },
  {
   "cell_type": "markdown",
   "metadata": {},
   "source": [
    "### Load the glove word vecotr and vonvert it  \n",
    "NOTE: If this code is run for the first time, you need to run the code in this cell to convert the format of the pre-training word vector.  \n",
    "Twitter Pre-train Glove word vector: http://nlp.stanford.edu/data/glove.twitter.27B.zip  "
   ]
  },
  {
   "cell_type": "code",
   "execution_count": 72,
   "metadata": {},
   "outputs": [
    {
     "data": {
      "text/plain": [
       "(1193514, 100)"
      ]
     },
     "execution_count": 72,
     "metadata": {},
     "output_type": "execute_result"
    }
   ],
   "source": [
    "# Load the glove word vector and use gensim to convert it to the word2vec word vector format\n",
    "from gensim.models import KeyedVectors\n",
    "from gensim.scripts.glove2word2vec import glove2word2vec\n",
    "\n",
    "# input file\n",
    "glove_file = './data/glove.twitter.27B.100d.txt'\n",
    "# output file\n",
    "tmp_file = \"./data/twitter_glove_to_word2vec.txt\"\n",
    "\n",
    "# call glove2word2vec script\n",
    "# default way (through CLI): python -m gensim.scripts.glove2word2vec --input <glove_file> --output <w2v_file>\n",
    "\n",
    "# Start converting\n",
    "glove2word2vec(glove_file, tmp_file)"
   ]
  },
  {
   "cell_type": "code",
   "execution_count": 12,
   "metadata": {},
   "outputs": [],
   "source": [
    "# Load the converted word vector file\n",
    "vector_model = KeyedVectors.load_word2vec_format(tmp_file)"
   ]
  },
  {
   "cell_type": "markdown",
   "metadata": {},
   "source": [
    "### Get pretrained word vector for each word"
   ]
  },
  {
   "cell_type": "code",
   "execution_count": 13,
   "metadata": {},
   "outputs": [
    {
     "name": "stderr",
     "output_type": "stream",
     "text": [
      "/home/lilian/anaconda3/lib/python3.6/site-packages/ipykernel_launcher.py:14: DeprecationWarning: Call to deprecated `wv` (Attribute will be removed in 4.0.0, use self instead).\n",
      "  \n",
      "/home/lilian/anaconda3/lib/python3.6/site-packages/ipykernel_launcher.py:18: DeprecationWarning: Call to deprecated `wv` (Attribute will be removed in 4.0.0, use self instead).\n"
     ]
    }
   ],
   "source": [
    "# Get the index after each word tokenizer\n",
    "word_index = tokenizer.word_index\n",
    "# Get the size of num_words\n",
    "num_words = min(MAX_NB_WORDS, len(word_index))\n",
    "\n",
    "#print(num_words)\n",
    "ss = 0\n",
    "# initialization embedding matrix\n",
    "embedding_matrix = np.zeros((num_words, EMBEDDING_DIM))\n",
    "\n",
    "# print(len(word_index.items()))\n",
    "# Get the word vector for each word\n",
    "for word, i in word_index.items():\n",
    "        if word in vector_model.wv.vocab:\n",
    "                ss += 1\n",
    "                if i >= num_words:\n",
    "                    break\n",
    "                embedding_matrix[i] = vector_model.wv[word]\n",
    "        else:\n",
    "                # print(word)\n",
    "                pass\n",
    "#print(embedding_matrix.shape)"
   ]
  },
  {
   "cell_type": "markdown",
   "metadata": {},
   "source": [
    "## 2、Bulid models"
   ]
  },
  {
   "cell_type": "markdown",
   "metadata": {},
   "source": [
    "### TextCNN  \n",
    "Convolutional Neural Networks for Sentence Classification  \n",
    "https://arxiv.org/abs/1408.5882    "
   ]
  },
  {
   "cell_type": "code",
   "execution_count": 14,
   "metadata": {},
   "outputs": [],
   "source": [
    "# bulid a TextCNN model\n",
    "def TextCNNModel(num_labels, num_words, embedding_matrix):\n",
    "        # Model structure：word_embedding-Convolution pooling*3-concatenate-Fully connected\n",
    "    \n",
    "        # define embedding_layer\n",
    "        embedding_layer = Embedding(num_words,\n",
    "                                    EMBEDDING_DIM,\n",
    "                                    weights=[embedding_matrix],\n",
    "                                    input_length=MAX_SEQUENCE_LENGTH,\n",
    "                                    trainable=True)\n",
    "\n",
    "        print('Training model.')\n",
    "        sequence_input = Input(shape=(MAX_SEQUENCE_LENGTH,), dtype='int32')\n",
    "        embedded_sequences = embedding_layer(sequence_input)\n",
    "        \n",
    "        # Convolution pooling*3\n",
    "        # The word window size is 3, 4, 5\n",
    "        cnn1 = Convolution1D(256, 3, padding='same', strides=1, activation='relu')(embedded_sequences)\n",
    "        cnn1 = MaxPooling1D(pool_size=int(cnn1.shape[1]))(cnn1)\n",
    "        cnn2 = Convolution1D(256, 4, padding='same', strides=1, activation='relu')(embedded_sequences)\n",
    "        cnn2 = MaxPooling1D(pool_size=int(cnn2.shape[1]))(cnn2)\n",
    "        cnn3 = Convolution1D(256, 5, padding='same', strides=1, activation='relu')(embedded_sequences)\n",
    "        cnn3 = MaxPooling1D(pool_size=int(cnn3.shape[1]))(cnn3)\n",
    "        \n",
    "        # concatenate\n",
    "        cnn = concatenate([cnn1, cnn2, cnn3], axis=-1)\n",
    "        \n",
    "        # Flatten\n",
    "        flat = Flatten()(cnn)\n",
    "        \n",
    "        # full concatenate\n",
    "        preds = (Dense(num_labels, activation='softmax'))(flat)\n",
    "\n",
    "        model = Model(sequence_input, preds)\n",
    "        # model summary\n",
    "        # model.summary()\n",
    "\n",
    "        # model compile\n",
    "        model.compile(loss='categorical_crossentropy',\n",
    "                      optimizer='adam',\n",
    "                      metrics=['acc'])\n",
    "\n",
    "        return model"
   ]
  },
  {
   "cell_type": "markdown",
   "metadata": {},
   "source": [
    "### BiGRU"
   ]
  },
  {
   "cell_type": "code",
   "execution_count": 15,
   "metadata": {},
   "outputs": [],
   "source": [
    "# bulid a BiGRU model\n",
    "def BiGRUModel(num_labels, num_words, embedding_matrix):\n",
    "         # Model structure：word_embedding-Dropout-BiGRU-BiGRU-Dropout-Fully connected-Dropout-Fully connected-Dropout-Fully connected\n",
    "    \n",
    "        # define embedding_layer\n",
    "    \n",
    "        embedding_layer = Embedding(num_words,\n",
    "                                    EMBEDDING_DIM,\n",
    "                                    weights=[embedding_matrix],\n",
    "                                    input_length=MAX_SEQUENCE_LENGTH,\n",
    "                                    trainable=False)\n",
    "\n",
    "        print('Training model.')\n",
    "        sequence_input = Input(shape=(MAX_SEQUENCE_LENGTH,), dtype='int32')\n",
    "        embedded_sequences = embedding_layer(sequence_input)\n",
    "        x = Dropout(0.5)(embedded_sequences)\n",
    "        x = Bidirectional(GRU(256, activation='relu', return_sequences=True))(x)\n",
    "        x = Bidirectional(GRU(128, activation='relu'))(x)\n",
    "        x = Dropout(0.2)(x)\n",
    "        x = Dense(128, activation='relu')(x)\n",
    "        x = Dropout(0.2)(x)\n",
    "        x = Dense(64, activation='relu')(x)\n",
    "        x = Dropout(0.2)(x)\n",
    "        preds = Dense(num_labels, activation='softmax')(x)\n",
    "\n",
    "        model = Model(sequence_input, preds)\n",
    "        # model summary\n",
    "        # model.summary()\n",
    "\n",
    "        # model compile\n",
    "        model.compile(loss='categorical_crossentropy',\n",
    "                      optimizer='adam',\n",
    "                      metrics=['acc'])\n",
    "\n",
    "        return model"
   ]
  },
  {
   "cell_type": "markdown",
   "metadata": {},
   "source": [
    "### DPCNN  \n",
    "Deep Pyramid Convolutional Neural Networks for Text Categorization(DPCNN)    \n",
    "http://www.aclweb.org/anthology/P17-1052  "
   ]
  },
  {
   "cell_type": "code",
   "execution_count": 16,
   "metadata": {},
   "outputs": [],
   "source": [
    "# bulid a DPCNN model\n",
    "def DPCNNModel(num_labels, num_words, embedding_matrix):\n",
    "        embedding_layer = Embedding(num_words,\n",
    "                                    EMBEDDING_DIM,\n",
    "                                    weights=[embedding_matrix],\n",
    "                                    input_length=MAX_SEQUENCE_LENGTH,\n",
    "                                    trainable=False)\n",
    "\n",
    "        print('Training model.')\n",
    "        sequence_input = Input(shape=(MAX_SEQUENCE_LENGTH,), dtype='int32')\n",
    "        embedded_sequences = embedding_layer(sequence_input)\n",
    "\n",
    "        emb_comment = SpatialDropout1D(spatial_dropout)(embedded_sequences)\n",
    "\n",
    "        block1 = Conv1D(filter_nr, kernel_size=filter_size, padding='same', activation='linear')(emb_comment)\n",
    "        block1 = BatchNormalization()(block1)\n",
    "        block1 = PReLU()(block1)\n",
    "        block1 = Conv1D(filter_nr, kernel_size=filter_size, padding='same', activation='linear')(block1)\n",
    "        block1 = BatchNormalization()(block1)\n",
    "        block1 = PReLU()(block1)\n",
    "\n",
    "        # we pass embedded comment through conv1d with filter size 1 because it needs to have the same shape as block output\n",
    "        # if you choose filter_nr = embed_size (300 in this case) you don't have to do this part and can add emb_comment directly to block1_output\n",
    "        resize_emb = Conv1D(filter_nr, kernel_size=1, padding='same', activation='linear')(emb_comment)\n",
    "        resize_emb = PReLU()(resize_emb)\n",
    "\n",
    "        block1_output = add([block1, resize_emb])\n",
    "        block1_output = MaxPooling1D(pool_size=max_pool_size, strides=max_pool_strides)(block1_output)\n",
    "\n",
    "        block2 = Conv1D(filter_nr, kernel_size=filter_size, padding='same', activation='linear')(block1_output)\n",
    "        block2 = BatchNormalization()(block2)\n",
    "        block2 = PReLU()(block2)\n",
    "        block2 = Conv1D(filter_nr, kernel_size=filter_size, padding='same', activation='linear')(block2)\n",
    "        block2 = BatchNormalization()(block2)\n",
    "        block2 = PReLU()(block2)\n",
    "\n",
    "        block2_output = add([block2, block1_output])\n",
    "        block2_output = MaxPooling1D(pool_size=max_pool_size, strides=max_pool_strides)(block2_output)\n",
    "\n",
    "        block3 = Conv1D(filter_nr, kernel_size=filter_size, padding='same', activation='linear')(block2_output)\n",
    "        block3 = BatchNormalization()(block3)\n",
    "        block3 = PReLU()(block3)\n",
    "        block3 = Conv1D(filter_nr, kernel_size=filter_size, padding='same', activation='linear')(block3)\n",
    "        block3 = BatchNormalization()(block3)\n",
    "        block3 = PReLU()(block3)\n",
    "\n",
    "        block3_output = add([block3, block2_output])\n",
    "        block3_output = MaxPooling1D(pool_size=max_pool_size, strides=max_pool_strides)(block3_output)\n",
    "\n",
    "        block4 = Conv1D(filter_nr, kernel_size=filter_size, padding='same', activation='linear')(block3_output)\n",
    "        block4 = BatchNormalization()(block4)\n",
    "        block4 = PReLU()(block4)\n",
    "        block4 = Conv1D(filter_nr, kernel_size=filter_size, padding='same', activation='linear')(block4)\n",
    "        block4 = BatchNormalization()(block4)\n",
    "        block4 = PReLU()(block4)\n",
    "\n",
    "        output = add([block4, block3_output])\n",
    "        output = GlobalMaxPooling1D()(output)\n",
    "        output = Dense(dense_nr, activation='linear')(output)\n",
    "        output = BatchNormalization()(output)\n",
    "        output = PReLU()(output)\n",
    "        output = Dropout(dense_dropout)(output)\n",
    "        preds = Dense(num_labels, activation='softmax')(output)\n",
    "\n",
    "        model = Model(sequence_input, preds)\n",
    "        #model.summary()\n",
    "\n",
    "        model.compile(loss='categorical_crossentropy',\n",
    "                      optimizer='adam',\n",
    "                      metrics=['acc'])\n",
    "\n",
    "        return model"
   ]
  },
  {
   "cell_type": "markdown",
   "metadata": {},
   "source": [
    "## 3、cross validation and get results"
   ]
  },
  {
   "cell_type": "code",
   "execution_count": 17,
   "metadata": {},
   "outputs": [],
   "source": [
    "# cross validation\n",
    "def cross_validation(model_name):\n",
    "        folds = StratifiedKFold(n_splits=5, shuffle=True, random_state=2018).split(x_train, Y_train)\n",
    "        #  Initialize two matrices to store the results of each cross-validation\n",
    "        test_pred = np.zeros((x_test.shape[0], num_labels))\n",
    "        test_pred_cv = np.zeros((5, x_test.shape[0], num_labels))\n",
    "\n",
    "        for ii, (idx_train, idx_val) in enumerate(folds):\n",
    "                print('*********************************************************************************************************************')\n",
    "                print('Fold',ii)\n",
    "                X_train_cv = x_train[idx_train]\n",
    "                X_valid_cv = x_train[idx_val]\n",
    "                y_train_cv = y_train[idx_train]\n",
    "                y_valid_cv = y_train[idx_val]\n",
    "\n",
    "                if model_name == 'TextCNN':\n",
    "                        model = TextCNNModel(num_labels, num_words, embedding_matrix)\n",
    "                elif model_name == 'DPCNN':\n",
    "                        model = DPCNNModel(num_labels, num_words, embedding_matrix)\n",
    "                elif model_name == 'BiGRU':\n",
    "                        model = BiGRUModel(num_labels, num_words, embedding_matrix)\n",
    "                else:\n",
    "                        print('Please enter the correct model name')\n",
    "                early_stop = EarlyStopping(patience=2)\n",
    "                check_point = ModelCheckpoint('Fold_'+str(ii)+'_'+'_model_o.hdf5', monitor=\"val_acc\", mode=\"max\", save_best_only=True, verbose=1)\n",
    "\n",
    "                history = model.fit(X_train_cv, y_train_cv, batch_size=128, epochs=100, verbose=1, class_weight='auto',validation_data=(X_valid_cv, y_valid_cv),\n",
    "                                    callbacks=[early_stop, check_point])\n",
    "\n",
    "                preds = model.predict(x_test)\n",
    "                test_pred_cv[ii, :] = preds\n",
    "\n",
    "        # Average of cross validation results\n",
    "        test_pred[:] = test_pred_cv.mean(axis=0)\n",
    "        #  Get the forecast category for each sample\n",
    "        y_classes = test_pred[:].argmax(axis=-1)\n",
    "        return test_pred[:],y_classes"
   ]
  },
  {
   "cell_type": "markdown",
   "metadata": {},
   "source": [
    "## 4、Get Precision score、Recall score and ROC "
   ]
  },
  {
   "cell_type": "code",
   "execution_count": 73,
   "metadata": {},
   "outputs": [],
   "source": [
    "# Calculation accuracy and recall rate\n",
    "def Precision_Recall(Y_test, y_classes):\n",
    "    precision = round(precision_score(Y_test, y_classes, average='macro'),3)\n",
    "    recall = round(recall_score(Y_test,y_classes,average='macro'),3)\n",
    "    return precision,recall"
   ]
  },
  {
   "cell_type": "code",
   "execution_count": 19,
   "metadata": {},
   "outputs": [],
   "source": [
    "# compute ROC and AUC\n",
    "def ROC_and_AUC(Y_test,y_scores):\n",
    "        # Binary the true label of the test sample\n",
    "        Y_test = label_binarize(Y_test, classes=[0, 1, 2])\n",
    "        \n",
    "        # Set the n_classes parameter, which is the number of categories.\n",
    "        n_classes = 3\n",
    "        \n",
    "        # Calculate ROC for each class\n",
    "        fpr = dict()\n",
    "        tpr = dict()\n",
    "        roc_auc = dict()\n",
    "        for i in range(n_classes):\n",
    "            fpr[i], tpr[i], _ = roc_curve(Y_test[:, i],y_scores[:, i])\n",
    "            roc_auc[i] = auc(fpr[i], tpr[i])\n",
    "    \n",
    "        # Compute macro-average ROC curve and ROC area\n",
    "        # First aggregate all false positive rates\n",
    "        all_fpr = np.unique(np.concatenate([fpr[i] for i in range(n_classes)]))\n",
    "        # Then interpolate all ROC curves at this points\n",
    "        mean_tpr = np.zeros_like(all_fpr)\n",
    "        for i in range(n_classes):\n",
    "            mean_tpr += interp(all_fpr, fpr[i], tpr[i])\n",
    "        \n",
    "        # Finally average it and compute AUC\n",
    "        mean_tpr /= n_classes\n",
    "        fpr[\"macro\"] = all_fpr\n",
    "        tpr[\"macro\"] = mean_tpr\n",
    "        roc_auc[\"macro\"] = auc(fpr[\"macro\"], tpr[\"macro\"])\n",
    "        n_classes\n",
    "        \n",
    "        # Plot all ROC curves\n",
    "        lw=2\n",
    "        plt.figure()\n",
    "        plt.plot(fpr[\"macro\"], tpr[\"macro\"],\n",
    "                 label='macro-average ROC curve (area = {0:0.2f})'\n",
    "                       ''.format(roc_auc[\"macro\"]),\n",
    "                 color='navy', linestyle=':', linewidth=4)\n",
    "        \n",
    "        colors = cycle(['aqua', 'darkorange', 'cornflowerblue'])\n",
    "        for i, color in zip(range(n_classes), colors):\n",
    "            plt.plot(fpr[i], tpr[i], color=color, lw=lw,\n",
    "                     label='ROC curve of class {0} (area = {1:0.2f})'\n",
    "                     ''.format(i, roc_auc[i]))\n",
    "        \n",
    "        plt.plot([0, 1], [0, 1], 'k--', lw=lw)\n",
    "        plt.xlim([0.0, 1.0])\n",
    "        plt.ylim([0.0, 1.05])\n",
    "        plt.xlabel('False Positive Rate')\n",
    "        plt.ylabel('True Positive Rate')\n",
    "        plt.title('Results')\n",
    "        plt.legend(loc=\"lower right\")\n",
    "        plt.show()"
   ]
  },
  {
   "cell_type": "markdown",
   "metadata": {},
   "source": [
    "### 4.1TextCNN results"
   ]
  },
  {
   "cell_type": "code",
   "execution_count": 22,
   "metadata": {},
   "outputs": [
    {
     "name": "stdout",
     "output_type": "stream",
     "text": [
      "*********************************************************************************************************************\n",
      "Fold 0\n",
      "Training model.\n",
      "Train on 6208 samples, validate on 1554 samples\n",
      "Epoch 1/100\n",
      "6208/6208 [==============================] - 4s 696us/step - loss: 0.7989 - acc: 0.6434 - val_loss: 0.6754 - val_acc: 0.7027\n",
      "\n",
      "Epoch 00001: val_acc improved from -inf to 0.70270, saving model to Fold_0__model_o.hdf5\n",
      "Epoch 2/100\n",
      "6208/6208 [==============================] - 1s 179us/step - loss: 0.4461 - acc: 0.8452 - val_loss: 0.6120 - val_acc: 0.7452\n",
      "\n",
      "Epoch 00002: val_acc improved from 0.70270 to 0.74517, saving model to Fold_0__model_o.hdf5\n",
      "Epoch 3/100\n",
      "6208/6208 [==============================] - 1s 177us/step - loss: 0.2771 - acc: 0.9338 - val_loss: 0.5868 - val_acc: 0.7606\n",
      "\n",
      "Epoch 00003: val_acc improved from 0.74517 to 0.76062, saving model to Fold_0__model_o.hdf5\n",
      "Epoch 4/100\n",
      "6208/6208 [==============================] - 1s 181us/step - loss: 0.1602 - acc: 0.9770 - val_loss: 0.5750 - val_acc: 0.7741\n",
      "\n",
      "Epoch 00004: val_acc improved from 0.76062 to 0.77413, saving model to Fold_0__model_o.hdf5\n",
      "Epoch 5/100\n",
      "6208/6208 [==============================] - 1s 181us/step - loss: 0.0918 - acc: 0.9932 - val_loss: 0.5852 - val_acc: 0.7761\n",
      "\n",
      "Epoch 00005: val_acc improved from 0.77413 to 0.77606, saving model to Fold_0__model_o.hdf5\n",
      "Epoch 6/100\n",
      "6208/6208 [==============================] - 1s 180us/step - loss: 0.0512 - acc: 0.9994 - val_loss: 0.5754 - val_acc: 0.7857\n",
      "\n",
      "Epoch 00006: val_acc improved from 0.77606 to 0.78571, saving model to Fold_0__model_o.hdf5\n",
      "*********************************************************************************************************************\n",
      "Fold 1\n",
      "Training model.\n",
      "Train on 6209 samples, validate on 1553 samples\n",
      "Epoch 1/100\n",
      "6209/6209 [==============================] - 3s 495us/step - loss: 0.7691 - acc: 0.6479 - val_loss: 0.6399 - val_acc: 0.7405\n",
      "\n",
      "Epoch 00001: val_acc improved from -inf to 0.74050, saving model to Fold_1__model_o.hdf5\n",
      "Epoch 2/100\n",
      "6209/6209 [==============================] - 1s 180us/step - loss: 0.4341 - acc: 0.8518 - val_loss: 0.5746 - val_acc: 0.7663\n",
      "\n",
      "Epoch 00002: val_acc improved from 0.74050 to 0.76626, saving model to Fold_1__model_o.hdf5\n",
      "Epoch 3/100\n",
      "6209/6209 [==============================] - 1s 178us/step - loss: 0.2644 - acc: 0.9362 - val_loss: 0.5462 - val_acc: 0.7733\n",
      "\n",
      "Epoch 00003: val_acc improved from 0.76626 to 0.77334, saving model to Fold_1__model_o.hdf5\n",
      "Epoch 4/100\n",
      "6209/6209 [==============================] - 1s 180us/step - loss: 0.1492 - acc: 0.9807 - val_loss: 0.5266 - val_acc: 0.7920\n",
      "\n",
      "Epoch 00004: val_acc improved from 0.77334 to 0.79202, saving model to Fold_1__model_o.hdf5\n",
      "Epoch 5/100\n",
      "6209/6209 [==============================] - 1s 180us/step - loss: 0.0820 - acc: 0.9957 - val_loss: 0.5309 - val_acc: 0.7985\n",
      "\n",
      "Epoch 00005: val_acc improved from 0.79202 to 0.79845, saving model to Fold_1__model_o.hdf5\n",
      "Epoch 6/100\n",
      "6209/6209 [==============================] - 1s 181us/step - loss: 0.0459 - acc: 0.9995 - val_loss: 0.5367 - val_acc: 0.8017\n",
      "\n",
      "Epoch 00006: val_acc improved from 0.79845 to 0.80167, saving model to Fold_1__model_o.hdf5\n",
      "*********************************************************************************************************************\n",
      "Fold 2\n",
      "Training model.\n",
      "Train on 6209 samples, validate on 1553 samples\n",
      "Epoch 1/100\n",
      "6209/6209 [==============================] - 2s 368us/step - loss: 0.7834 - acc: 0.6466 - val_loss: 0.6939 - val_acc: 0.6948\n",
      "\n",
      "Epoch 00001: val_acc improved from -inf to 0.69478, saving model to Fold_2__model_o.hdf5\n",
      "Epoch 2/100\n",
      "6209/6209 [==============================] - 1s 178us/step - loss: 0.4407 - acc: 0.8457 - val_loss: 0.6110 - val_acc: 0.7328\n",
      "\n",
      "Epoch 00002: val_acc improved from 0.69478 to 0.73278, saving model to Fold_2__model_o.hdf5\n",
      "Epoch 3/100\n",
      "6209/6209 [==============================] - ETA: 0s - loss: 0.2688 - acc: 0.938 - 1s 178us/step - loss: 0.2670 - acc: 0.9388 - val_loss: 0.5787 - val_acc: 0.7669\n",
      "\n",
      "Epoch 00003: val_acc improved from 0.73278 to 0.76690, saving model to Fold_2__model_o.hdf5\n",
      "Epoch 4/100\n",
      "6209/6209 [==============================] - 1s 178us/step - loss: 0.1551 - acc: 0.9755 - val_loss: 0.5692 - val_acc: 0.7882\n",
      "\n",
      "Epoch 00004: val_acc improved from 0.76690 to 0.78815, saving model to Fold_2__model_o.hdf5\n",
      "Epoch 5/100\n",
      "6209/6209 [==============================] - 1s 180us/step - loss: 0.0864 - acc: 0.9928 - val_loss: 0.5973 - val_acc: 0.7772\n",
      "\n",
      "Epoch 00005: val_acc did not improve from 0.78815\n",
      "Epoch 6/100\n",
      "6209/6209 [==============================] - 1s 178us/step - loss: 0.0483 - acc: 0.9994 - val_loss: 0.5859 - val_acc: 0.7933\n",
      "\n",
      "Epoch 00006: val_acc improved from 0.78815 to 0.79330, saving model to Fold_2__model_o.hdf5\n",
      "*********************************************************************************************************************\n",
      "Fold 3\n",
      "Training model.\n",
      "Train on 6211 samples, validate on 1551 samples\n",
      "Epoch 1/100\n",
      "6211/6211 [==============================] - 3s 481us/step - loss: 0.7573 - acc: 0.6614 - val_loss: 0.6666 - val_acc: 0.7066\n",
      "\n",
      "Epoch 00001: val_acc improved from -inf to 0.70664, saving model to Fold_3__model_o.hdf5\n",
      "Epoch 2/100\n",
      "6211/6211 [==============================] - 1s 180us/step - loss: 0.4452 - acc: 0.8422 - val_loss: 0.6153 - val_acc: 0.7363\n",
      "\n",
      "Epoch 00002: val_acc improved from 0.70664 to 0.73630, saving model to Fold_3__model_o.hdf5\n",
      "Epoch 3/100\n",
      "6211/6211 [==============================] - 1s 179us/step - loss: 0.2696 - acc: 0.9322 - val_loss: 0.5460 - val_acc: 0.7763\n",
      "\n",
      "Epoch 00003: val_acc improved from 0.73630 to 0.77627, saving model to Fold_3__model_o.hdf5\n",
      "Epoch 4/100\n",
      "6211/6211 [==============================] - 1s 181us/step - loss: 0.1567 - acc: 0.9754 - val_loss: 0.5629 - val_acc: 0.7750\n",
      "\n",
      "Epoch 00004: val_acc did not improve from 0.77627\n",
      "Epoch 5/100\n",
      "6211/6211 [==============================] - 1s 179us/step - loss: 0.0864 - acc: 0.9934 - val_loss: 0.5330 - val_acc: 0.7859\n",
      "\n",
      "Epoch 00005: val_acc improved from 0.77627 to 0.78594, saving model to Fold_3__model_o.hdf5\n",
      "Epoch 6/100\n",
      "6211/6211 [==============================] - 1s 182us/step - loss: 0.0469 - acc: 0.9990 - val_loss: 0.5494 - val_acc: 0.7956\n",
      "\n",
      "Epoch 00006: val_acc improved from 0.78594 to 0.79562, saving model to Fold_3__model_o.hdf5\n",
      "Epoch 7/100\n",
      "6211/6211 [==============================] - 1s 179us/step - loss: 0.0285 - acc: 1.0000 - val_loss: 0.5535 - val_acc: 0.7982\n",
      "\n",
      "Epoch 00007: val_acc improved from 0.79562 to 0.79819, saving model to Fold_3__model_o.hdf5\n",
      "*********************************************************************************************************************\n",
      "Fold 4\n",
      "Training model.\n",
      "Train on 6211 samples, validate on 1551 samples\n",
      "Epoch 1/100\n",
      "6211/6211 [==============================] - 3s 454us/step - loss: 0.7640 - acc: 0.6566 - val_loss: 0.6750 - val_acc: 0.7157\n",
      "\n",
      "Epoch 00001: val_acc improved from -inf to 0.71567, saving model to Fold_4__model_o.hdf5\n",
      "Epoch 2/100\n",
      "6211/6211 [==============================] - 1s 181us/step - loss: 0.4358 - acc: 0.8454 - val_loss: 0.6282 - val_acc: 0.7318\n",
      "\n",
      "Epoch 00002: val_acc improved from 0.71567 to 0.73179, saving model to Fold_4__model_o.hdf5\n",
      "Epoch 3/100\n",
      "6211/6211 [==============================] - 1s 181us/step - loss: 0.2657 - acc: 0.9361 - val_loss: 0.5883 - val_acc: 0.7634\n",
      "\n",
      "Epoch 00003: val_acc improved from 0.73179 to 0.76338, saving model to Fold_4__model_o.hdf5\n",
      "Epoch 4/100\n",
      "6211/6211 [==============================] - 1s 186us/step - loss: 0.1500 - acc: 0.9789 - val_loss: 0.5775 - val_acc: 0.7672\n",
      "\n",
      "Epoch 00004: val_acc improved from 0.76338 to 0.76725, saving model to Fold_4__model_o.hdf5\n",
      "Epoch 5/100\n",
      "6211/6211 [==============================] - 1s 182us/step - loss: 0.0839 - acc: 0.9947 - val_loss: 0.6093 - val_acc: 0.7718\n",
      "\n",
      "Epoch 00005: val_acc improved from 0.76725 to 0.77176, saving model to Fold_4__model_o.hdf5\n",
      "Epoch 6/100\n",
      "6211/6211 [==============================] - 1s 180us/step - loss: 0.0466 - acc: 0.9992 - val_loss: 0.6057 - val_acc: 0.7750\n",
      "\n",
      "Epoch 00006: val_acc improved from 0.77176 to 0.77498, saving model to Fold_4__model_o.hdf5\n"
     ]
    }
   ],
   "source": [
    "y_scores_TextCNN,y_classes_TextCNN = cross_validation(model_name='TextCNN')"
   ]
  },
  {
   "cell_type": "code",
   "execution_count": 74,
   "metadata": {},
   "outputs": [
    {
     "name": "stdout",
     "output_type": "stream",
     "text": [
      "The TextCNN precision score is:  0.748\n",
      "The TextCNN recall score is:  0.708\n"
     ]
    }
   ],
   "source": [
    "# get precision & recall\n",
    "precision_TextCNN,recall_TextCNN = Precision_Recall(Y_test, y_classes_TextCNN)\n",
    "print('The TextCNN precision score is: ',precision_TextCNN)\n",
    "print('The TextCNN recall score is: ',recall_TextCNN)"
   ]
  },
  {
   "cell_type": "code",
   "execution_count": 25,
   "metadata": {},
   "outputs": [
    {
     "data": {
      "image/png": "[encoded data removed]",
      "text/plain": [
       "<Figure size 432x288 with 1 Axes>"
      ]
     },
     "metadata": {
      "needs_background": "light"
     },
     "output_type": "display_data"
    }
   ],
   "source": [
    "ROC_and_AUC(Y_test,y_scores_TextCNN)"
   ]
  },
  {
   "cell_type": "markdown",
   "metadata": {},
   "source": [
    "### 4.2 DPCNN results"
   ]
  },
  {
   "cell_type": "code",
   "execution_count": 35,
   "metadata": {},
   "outputs": [
    {
     "name": "stdout",
     "output_type": "stream",
     "text": [
      "*********************************************************************************************************************\n",
      "Fold 0\n",
      "Training model.\n",
      "Train on 6208 samples, validate on 1554 samples\n",
      "Epoch 1/100\n",
      "6208/6208 [==============================] - 11s 2ms/step - loss: 1.1918 - acc: 0.4974 - val_loss: 0.8980 - val_acc: 0.5766\n",
      "\n",
      "Epoch 00001: val_acc improved from -inf to 0.57658, saving model to Fold_0__model_o.hdf5\n",
      "Epoch 2/100\n",
      "6208/6208 [==============================] - 3s 459us/step - loss: 0.9782 - acc: 0.5720 - val_loss: 0.8995 - val_acc: 0.6171\n",
      "\n",
      "Epoch 00002: val_acc improved from 0.57658 to 0.61712, saving model to Fold_0__model_o.hdf5\n",
      "Epoch 3/100\n",
      "6208/6208 [==============================] - 3s 461us/step - loss: 0.8814 - acc: 0.6041 - val_loss: 0.8417 - val_acc: 0.6358\n",
      "\n",
      "Epoch 00003: val_acc improved from 0.61712 to 0.63578, saving model to Fold_0__model_o.hdf5\n",
      "Epoch 4/100\n",
      "6208/6208 [==============================] - 3s 444us/step - loss: 0.8140 - acc: 0.6334 - val_loss: 0.8360 - val_acc: 0.6332\n",
      "\n",
      "Epoch 00004: val_acc did not improve from 0.63578\n",
      "Epoch 5/100\n",
      "6208/6208 [==============================] - 3s 464us/step - loss: 0.7500 - acc: 0.6682 - val_loss: 0.7824 - val_acc: 0.6757\n",
      "\n",
      "Epoch 00005: val_acc improved from 0.63578 to 0.67568, saving model to Fold_0__model_o.hdf5\n",
      "Epoch 6/100\n",
      "6208/6208 [==============================] - 3s 457us/step - loss: 0.7164 - acc: 0.6859 - val_loss: 0.7774 - val_acc: 0.6390\n",
      "\n",
      "Epoch 00006: val_acc did not improve from 0.67568\n",
      "Epoch 7/100\n",
      "6208/6208 [==============================] - 3s 453us/step - loss: 0.6724 - acc: 0.7113 - val_loss: 0.8122 - val_acc: 0.6750\n",
      "\n",
      "Epoch 00007: val_acc did not improve from 0.67568\n",
      "Epoch 8/100\n",
      "6208/6208 [==============================] - 3s 461us/step - loss: 0.6424 - acc: 0.7266 - val_loss: 0.7686 - val_acc: 0.6570\n",
      "\n",
      "Epoch 00008: val_acc did not improve from 0.67568\n",
      "Epoch 9/100\n",
      "6208/6208 [==============================] - 3s 459us/step - loss: 0.6023 - acc: 0.7448 - val_loss: 0.8508 - val_acc: 0.6094\n",
      "\n",
      "Epoch 00009: val_acc did not improve from 0.67568\n",
      "Epoch 10/100\n",
      "6208/6208 [==============================] - 3s 430us/step - loss: 0.5625 - acc: 0.7659 - val_loss: 0.7719 - val_acc: 0.6840\n",
      "\n",
      "Epoch 00010: val_acc improved from 0.67568 to 0.68404, saving model to Fold_0__model_o.hdf5\n",
      "*********************************************************************************************************************\n",
      "Fold 1\n",
      "Training model.\n",
      "Train on 6209 samples, validate on 1553 samples\n",
      "Epoch 1/100\n",
      "6209/6209 [==============================] - 13s 2ms/step - loss: 1.1658 - acc: 0.5147 - val_loss: 0.9297 - val_acc: 0.6040\n",
      "\n",
      "Epoch 00001: val_acc improved from -inf to 0.60399, saving model to Fold_1__model_o.hdf5\n",
      "Epoch 2/100\n",
      "6209/6209 [==============================] - 3s 458us/step - loss: 0.9704 - acc: 0.5732 - val_loss: 0.9860 - val_acc: 0.5976\n",
      "\n",
      "Epoch 00002: val_acc did not improve from 0.60399\n",
      "Epoch 3/100\n",
      "6209/6209 [==============================] - 3s 452us/step - loss: 0.8568 - acc: 0.6170 - val_loss: 0.8991 - val_acc: 0.6310\n",
      "\n",
      "Epoch 00003: val_acc improved from 0.60399 to 0.63104, saving model to Fold_1__model_o.hdf5\n",
      "Epoch 4/100\n",
      "6209/6209 [==============================] - 3s 451us/step - loss: 0.7839 - acc: 0.6529 - val_loss: 0.8293 - val_acc: 0.6381\n",
      "\n",
      "Epoch 00004: val_acc improved from 0.63104 to 0.63812, saving model to Fold_1__model_o.hdf5\n",
      "Epoch 5/100\n",
      "6209/6209 [==============================] - 3s 452us/step - loss: 0.7502 - acc: 0.6727 - val_loss: 0.8826 - val_acc: 0.6265\n",
      "\n",
      "Epoch 00005: val_acc did not improve from 0.63812\n",
      "Epoch 6/100\n",
      "6209/6209 [==============================] - 3s 449us/step - loss: 0.7055 - acc: 0.6933 - val_loss: 0.7047 - val_acc: 0.6832\n",
      "\n",
      "Epoch 00006: val_acc improved from 0.63812 to 0.68319, saving model to Fold_1__model_o.hdf5\n",
      "Epoch 7/100\n",
      "6209/6209 [==============================] - 3s 448us/step - loss: 0.6546 - acc: 0.7202 - val_loss: 0.7013 - val_acc: 0.6877\n",
      "\n",
      "Epoch 00007: val_acc improved from 0.68319 to 0.68770, saving model to Fold_1__model_o.hdf5\n",
      "Epoch 8/100\n",
      "6209/6209 [==============================] - 3s 467us/step - loss: 0.6205 - acc: 0.7383 - val_loss: 0.6865 - val_acc: 0.6999\n",
      "\n",
      "Epoch 00008: val_acc improved from 0.68770 to 0.69994, saving model to Fold_1__model_o.hdf5\n",
      "Epoch 9/100\n",
      "6209/6209 [==============================] - 3s 464us/step - loss: 0.5753 - acc: 0.7555 - val_loss: 0.7234 - val_acc: 0.6980\n",
      "\n",
      "Epoch 00009: val_acc did not improve from 0.69994\n",
      "Epoch 10/100\n",
      "6209/6209 [==============================] - 3s 444us/step - loss: 0.5401 - acc: 0.7813 - val_loss: 0.7650 - val_acc: 0.6883\n",
      "\n",
      "Epoch 00010: val_acc did not improve from 0.69994\n",
      "*********************************************************************************************************************\n",
      "Fold 2\n",
      "Training model.\n",
      "Train on 6209 samples, validate on 1553 samples\n",
      "Epoch 1/100\n",
      "6209/6209 [==============================] - 13s 2ms/step - loss: 1.1403 - acc: 0.5072 - val_loss: 0.8882 - val_acc: 0.6066\n",
      "\n",
      "Epoch 00001: val_acc improved from -inf to 0.60657, saving model to Fold_2__model_o.hdf5\n",
      "Epoch 2/100\n",
      "6209/6209 [==============================] - 3s 467us/step - loss: 0.9367 - acc: 0.5750 - val_loss: 0.8377 - val_acc: 0.6066\n",
      "\n",
      "Epoch 00002: val_acc did not improve from 0.60657\n",
      "Epoch 3/100\n",
      "6209/6209 [==============================] - 3s 455us/step - loss: 0.8503 - acc: 0.6135 - val_loss: 0.8391 - val_acc: 0.6285\n",
      "\n",
      "Epoch 00003: val_acc improved from 0.60657 to 0.62846, saving model to Fold_2__model_o.hdf5\n",
      "Epoch 4/100\n",
      "6209/6209 [==============================] - 3s 461us/step - loss: 0.7873 - acc: 0.6449 - val_loss: 0.7856 - val_acc: 0.6536\n",
      "\n",
      "Epoch 00004: val_acc improved from 0.62846 to 0.65357, saving model to Fold_2__model_o.hdf5\n",
      "Epoch 5/100\n",
      "6209/6209 [==============================] - 3s 475us/step - loss: 0.7435 - acc: 0.6674 - val_loss: 0.7763 - val_acc: 0.6529\n",
      "\n",
      "Epoch 00005: val_acc did not improve from 0.65357\n",
      "Epoch 6/100\n",
      "6209/6209 [==============================] - 3s 477us/step - loss: 0.6969 - acc: 0.6950 - val_loss: 0.7503 - val_acc: 0.6787\n",
      "\n",
      "Epoch 00006: val_acc improved from 0.65357 to 0.67869, saving model to Fold_2__model_o.hdf5\n",
      "Epoch 7/100\n",
      "6209/6209 [==============================] - 3s 444us/step - loss: 0.6444 - acc: 0.7207 - val_loss: 0.7292 - val_acc: 0.6909\n",
      "\n",
      "Epoch 00007: val_acc improved from 0.67869 to 0.69092, saving model to Fold_2__model_o.hdf5\n",
      "Epoch 8/100\n",
      "6209/6209 [==============================] - 3s 472us/step - loss: 0.5980 - acc: 0.7534 - val_loss: 0.7663 - val_acc: 0.6800\n",
      "\n",
      "Epoch 00008: val_acc did not improve from 0.69092\n",
      "Epoch 9/100\n",
      "6209/6209 [==============================] - 3s 454us/step - loss: 0.5657 - acc: 0.7665 - val_loss: 0.8017 - val_acc: 0.6838\n",
      "\n",
      "Epoch 00009: val_acc did not improve from 0.69092\n",
      "*********************************************************************************************************************\n",
      "Fold 3\n",
      "Training model.\n",
      "Train on 6211 samples, validate on 1551 samples\n",
      "Epoch 1/100\n",
      "6211/6211 [==============================] - 17s 3ms/step - loss: 1.1477 - acc: 0.5134 - val_loss: 1.1780 - val_acc: 0.5745\n",
      "\n",
      "Epoch 00001: val_acc improved from -inf to 0.57447, saving model to Fold_3__model_o.hdf5\n",
      "Epoch 2/100\n",
      "6211/6211 [==============================] - 3s 471us/step - loss: 0.9606 - acc: 0.5828 - val_loss: 0.8460 - val_acc: 0.6164\n",
      "\n",
      "Epoch 00002: val_acc improved from 0.57447 to 0.61638, saving model to Fold_3__model_o.hdf5\n",
      "Epoch 3/100\n",
      "6211/6211 [==============================] - 3s 472us/step - loss: 0.8675 - acc: 0.6078 - val_loss: 0.8776 - val_acc: 0.6074\n",
      "\n",
      "Epoch 00003: val_acc did not improve from 0.61638\n",
      "Epoch 4/100\n",
      "6211/6211 [==============================] - 3s 465us/step - loss: 0.8018 - acc: 0.6384 - val_loss: 0.8027 - val_acc: 0.6389\n",
      "\n",
      "Epoch 00004: val_acc improved from 0.61638 to 0.63894, saving model to Fold_3__model_o.hdf5\n",
      "Epoch 5/100\n",
      "6211/6211 [==============================] - 3s 474us/step - loss: 0.7448 - acc: 0.6683 - val_loss: 0.7740 - val_acc: 0.6589\n",
      "\n",
      "Epoch 00005: val_acc improved from 0.63894 to 0.65893, saving model to Fold_3__model_o.hdf5\n",
      "Epoch 6/100\n",
      "6211/6211 [==============================] - 3s 473us/step - loss: 0.7201 - acc: 0.6809 - val_loss: 0.7299 - val_acc: 0.6796\n",
      "\n",
      "Epoch 00006: val_acc improved from 0.65893 to 0.67956, saving model to Fold_3__model_o.hdf5\n"
     ]
    },
    {
     "name": "stdout",
     "output_type": "stream",
     "text": [
      "Epoch 7/100\n",
      "6211/6211 [==============================] - 3s 483us/step - loss: 0.6726 - acc: 0.7120 - val_loss: 0.7648 - val_acc: 0.6802\n",
      "\n",
      "Epoch 00007: val_acc improved from 0.67956 to 0.68021, saving model to Fold_3__model_o.hdf5\n",
      "Epoch 8/100\n",
      "6211/6211 [==============================] - 3s 466us/step - loss: 0.6390 - acc: 0.7331 - val_loss: 0.7115 - val_acc: 0.6989\n",
      "\n",
      "Epoch 00008: val_acc improved from 0.68021 to 0.69890, saving model to Fold_3__model_o.hdf5\n",
      "Epoch 9/100\n",
      "6211/6211 [==============================] - 3s 453us/step - loss: 0.6002 - acc: 0.7467 - val_loss: 0.6807 - val_acc: 0.7086\n",
      "\n",
      "Epoch 00009: val_acc improved from 0.69890 to 0.70858, saving model to Fold_3__model_o.hdf5\n",
      "Epoch 10/100\n",
      "6211/6211 [==============================] - 3s 456us/step - loss: 0.5724 - acc: 0.7572 - val_loss: 0.6948 - val_acc: 0.7157\n",
      "\n",
      "Epoch 00010: val_acc improved from 0.70858 to 0.71567, saving model to Fold_3__model_o.hdf5\n",
      "Epoch 11/100\n",
      "6211/6211 [==============================] - 3s 474us/step - loss: 0.5386 - acc: 0.7822 - val_loss: 0.6887 - val_acc: 0.7266\n",
      "\n",
      "Epoch 00011: val_acc improved from 0.71567 to 0.72663, saving model to Fold_3__model_o.hdf5\n",
      "*********************************************************************************************************************\n",
      "Fold 4\n",
      "Training model.\n",
      "Train on 6211 samples, validate on 1551 samples\n",
      "Epoch 1/100\n",
      "6211/6211 [==============================] - 17s 3ms/step - loss: 1.1801 - acc: 0.4977 - val_loss: 0.9948 - val_acc: 0.5732\n",
      "\n",
      "Epoch 00001: val_acc improved from -inf to 0.57318, saving model to Fold_4__model_o.hdf5\n",
      "Epoch 2/100\n",
      "6211/6211 [==============================] - 3s 464us/step - loss: 0.9824 - acc: 0.5671 - val_loss: 0.8883 - val_acc: 0.6048\n",
      "\n",
      "Epoch 00002: val_acc improved from 0.57318 to 0.60477, saving model to Fold_4__model_o.hdf5\n",
      "Epoch 3/100\n",
      "6211/6211 [==============================] - 3s 471us/step - loss: 0.8805 - acc: 0.6001 - val_loss: 1.0658 - val_acc: 0.5951\n",
      "\n",
      "Epoch 00003: val_acc did not improve from 0.60477\n",
      "Epoch 4/100\n",
      "6211/6211 [==============================] - 3s 458us/step - loss: 0.8146 - acc: 0.6342 - val_loss: 0.8598 - val_acc: 0.6473\n",
      "\n",
      "Epoch 00004: val_acc improved from 0.60477 to 0.64732, saving model to Fold_4__model_o.hdf5\n",
      "Epoch 5/100\n",
      "6211/6211 [==============================] - 3s 469us/step - loss: 0.7493 - acc: 0.6648 - val_loss: 0.7626 - val_acc: 0.6725\n",
      "\n",
      "Epoch 00005: val_acc improved from 0.64732 to 0.67247, saving model to Fold_4__model_o.hdf5\n",
      "Epoch 6/100\n",
      "6211/6211 [==============================] - 3s 494us/step - loss: 0.7061 - acc: 0.6798 - val_loss: 0.8368 - val_acc: 0.5906\n",
      "\n",
      "Epoch 00006: val_acc did not improve from 0.67247\n",
      "Epoch 7/100\n",
      "6211/6211 [==============================] - 3s 471us/step - loss: 0.6689 - acc: 0.7113 - val_loss: 0.7343 - val_acc: 0.6705\n",
      "\n",
      "Epoch 00007: val_acc did not improve from 0.67247\n",
      "Epoch 8/100\n",
      "6211/6211 [==============================] - 3s 473us/step - loss: 0.6142 - acc: 0.7353 - val_loss: 0.7703 - val_acc: 0.6750\n",
      "\n",
      "Epoch 00008: val_acc improved from 0.67247 to 0.67505, saving model to Fold_4__model_o.hdf5\n",
      "Epoch 9/100\n",
      "6211/6211 [==============================] - 3s 506us/step - loss: 0.5832 - acc: 0.7543 - val_loss: 0.7499 - val_acc: 0.6834\n",
      "\n",
      "Epoch 00009: val_acc improved from 0.67505 to 0.68343, saving model to Fold_4__model_o.hdf5\n"
     ]
    }
   ],
   "source": [
    "y_scores_DPCNN,y_classes_DPCNN = cross_validation(model_name='DPCNN')"
   ]
  },
  {
   "cell_type": "code",
   "execution_count": 75,
   "metadata": {},
   "outputs": [
    {
     "name": "stdout",
     "output_type": "stream",
     "text": [
      "The DPCNN precision score is:  0.725\n",
      "The DPCNN recall score is:  0.598\n"
     ]
    }
   ],
   "source": [
    "# get precision & recall\n",
    "precision_DPCNN,recall_DPCNN= Precision_Recall(Y_test, y_classes_DPCNN)\n",
    "print('The DPCNN precision score is: ',precision_DPCNN)\n",
    "print('The DPCNN recall score is: ',recall_DPCNN)"
   ]
  },
  {
   "cell_type": "code",
   "execution_count": 37,
   "metadata": {},
   "outputs": [
    {
     "data": {
      "image/png": "[encoded data removed]",
      "text/plain": [
       "<Figure size 432x288 with 1 Axes>"
      ]
     },
     "metadata": {
      "needs_background": "light"
     },
     "output_type": "display_data"
    }
   ],
   "source": [
    "# plot the ROC  & AUC \n",
    "ROC_and_AUC(Y_test,y_scores_DPCNN)"
   ]
  },
  {
   "cell_type": "markdown",
   "metadata": {},
   "source": [
    "### 4.3 BiGRUCNN results"
   ]
  },
  {
   "cell_type": "code",
   "execution_count": 44,
   "metadata": {},
   "outputs": [
    {
     "name": "stdout",
     "output_type": "stream",
     "text": [
      "*********************************************************************************************************************\n",
      "Fold 0\n",
      "Training model.\n",
      "Train on 6208 samples, validate on 1554 samples\n",
      "Epoch 1/100\n",
      "6208/6208 [==============================] - 81s 13ms/step - loss: 0.9312 - acc: 0.5665 - val_loss: 0.8254 - val_acc: 0.6351\n",
      "\n",
      "Epoch 00001: val_acc improved from -inf to 0.63514, saving model to Fold_0__model_o.hdf5\n",
      "Epoch 2/100\n",
      "6208/6208 [==============================] - 58s 9ms/step - loss: 0.8093 - acc: 0.6316 - val_loss: 0.7531 - val_acc: 0.6551\n",
      "\n",
      "Epoch 00002: val_acc improved from 0.63514 to 0.65508, saving model to Fold_0__model_o.hdf5\n",
      "Epoch 3/100\n",
      "6208/6208 [==============================] - 58s 9ms/step - loss: 0.7719 - acc: 0.6534 - val_loss: 0.7191 - val_acc: 0.6924\n",
      "\n",
      "Epoch 00003: val_acc improved from 0.65508 to 0.69241, saving model to Fold_0__model_o.hdf5\n",
      "Epoch 4/100\n",
      "6208/6208 [==============================] - 59s 10ms/step - loss: 0.7303 - acc: 0.6819 - val_loss: 0.6832 - val_acc: 0.7130\n",
      "\n",
      "Epoch 00004: val_acc improved from 0.69241 to 0.71300, saving model to Fold_0__model_o.hdf5\n",
      "Epoch 5/100\n",
      "6208/6208 [==============================] - 59s 10ms/step - loss: 0.7029 - acc: 0.6927 - val_loss: 0.6753 - val_acc: 0.7291\n",
      "\n",
      "Epoch 00005: val_acc improved from 0.71300 to 0.72909, saving model to Fold_0__model_o.hdf5\n",
      "Epoch 6/100\n",
      "6208/6208 [==============================] - 60s 10ms/step - loss: 0.6943 - acc: 0.7026 - val_loss: 0.6503 - val_acc: 0.7291\n",
      "\n",
      "Epoch 00006: val_acc did not improve from 0.72909\n",
      "Epoch 7/100\n",
      "6208/6208 [==============================] - 57s 9ms/step - loss: 0.6554 - acc: 0.7228 - val_loss: 0.6451 - val_acc: 0.7329\n",
      "\n",
      "Epoch 00007: val_acc improved from 0.72909 to 0.73295, saving model to Fold_0__model_o.hdf5\n",
      "Epoch 8/100\n",
      "6208/6208 [==============================] - 56s 9ms/step - loss: 0.6343 - acc: 0.7387 - val_loss: 0.6048 - val_acc: 0.7548\n",
      "\n",
      "Epoch 00008: val_acc improved from 0.73295 to 0.75483, saving model to Fold_0__model_o.hdf5\n",
      "Epoch 9/100\n",
      "6208/6208 [==============================] - 58s 9ms/step - loss: 0.6226 - acc: 0.7345 - val_loss: 0.6140 - val_acc: 0.7606\n",
      "\n",
      "Epoch 00009: val_acc improved from 0.75483 to 0.76062, saving model to Fold_0__model_o.hdf5\n",
      "Epoch 10/100\n",
      "6208/6208 [==============================] - 56s 9ms/step - loss: 0.6035 - acc: 0.7495 - val_loss: 0.5795 - val_acc: 0.7709\n",
      "\n",
      "Epoch 00010: val_acc improved from 0.76062 to 0.77091, saving model to Fold_0__model_o.hdf5\n",
      "Epoch 11/100\n",
      "6208/6208 [==============================] - 56s 9ms/step - loss: 0.5855 - acc: 0.7577 - val_loss: 0.5918 - val_acc: 0.7664\n",
      "\n",
      "Epoch 00011: val_acc did not improve from 0.77091\n",
      "Epoch 12/100\n",
      "6208/6208 [==============================] - 54s 9ms/step - loss: 0.5705 - acc: 0.7630 - val_loss: 0.5613 - val_acc: 0.7812\n",
      "\n",
      "Epoch 00012: val_acc improved from 0.77091 to 0.78121, saving model to Fold_0__model_o.hdf5\n",
      "Epoch 13/100\n",
      "6208/6208 [==============================] - 55s 9ms/step - loss: 0.5350 - acc: 0.7856 - val_loss: 0.5557 - val_acc: 0.7876\n",
      "\n",
      "Epoch 00013: val_acc improved from 0.78121 to 0.78764, saving model to Fold_0__model_o.hdf5\n",
      "Epoch 14/100\n",
      "6208/6208 [==============================] - 55s 9ms/step - loss: 0.5164 - acc: 0.7920 - val_loss: 0.5469 - val_acc: 0.7889\n",
      "\n",
      "Epoch 00014: val_acc improved from 0.78764 to 0.78893, saving model to Fold_0__model_o.hdf5\n",
      "Epoch 15/100\n",
      "6208/6208 [==============================] - 54s 9ms/step - loss: 0.5015 - acc: 0.7922 - val_loss: 0.5820 - val_acc: 0.7806\n",
      "\n",
      "Epoch 00015: val_acc did not improve from 0.78893\n",
      "Epoch 16/100\n",
      "6208/6208 [==============================] - 54s 9ms/step - loss: 0.5065 - acc: 0.7925 - val_loss: 0.5640 - val_acc: 0.7876\n",
      "\n",
      "Epoch 00016: val_acc did not improve from 0.78893\n",
      "*********************************************************************************************************************\n",
      "Fold 1\n",
      "Training model.\n",
      "Train on 6209 samples, validate on 1553 samples\n",
      "Epoch 1/100\n",
      "6209/6209 [==============================] - 73s 12ms/step - loss: 0.9359 - acc: 0.5626 - val_loss: 0.8759 - val_acc: 0.6143\n",
      "\n",
      "Epoch 00001: val_acc improved from -inf to 0.61429, saving model to Fold_1__model_o.hdf5\n",
      "Epoch 2/100\n",
      "6209/6209 [==============================] - 55s 9ms/step - loss: 0.8322 - acc: 0.6162 - val_loss: 0.7553 - val_acc: 0.6703\n",
      "\n",
      "Epoch 00002: val_acc improved from 0.61429 to 0.67032, saving model to Fold_1__model_o.hdf5\n",
      "Epoch 3/100\n",
      "6209/6209 [==============================] - 55s 9ms/step - loss: 0.7903 - acc: 0.6315 - val_loss: 0.7312 - val_acc: 0.6948\n",
      "\n",
      "Epoch 00003: val_acc improved from 0.67032 to 0.69478, saving model to Fold_1__model_o.hdf5\n",
      "Epoch 4/100\n",
      "6209/6209 [==============================] - 55s 9ms/step - loss: 0.7465 - acc: 0.6732 - val_loss: 0.6768 - val_acc: 0.7038\n",
      "\n",
      "Epoch 00004: val_acc improved from 0.69478 to 0.70380, saving model to Fold_1__model_o.hdf5\n",
      "Epoch 5/100\n",
      "6209/6209 [==============================] - 55s 9ms/step - loss: 0.7152 - acc: 0.6906 - val_loss: 0.6512 - val_acc: 0.7334\n",
      "\n",
      "Epoch 00005: val_acc improved from 0.70380 to 0.73342, saving model to Fold_1__model_o.hdf5\n",
      "Epoch 6/100\n",
      "6209/6209 [==============================] - 55s 9ms/step - loss: 0.6982 - acc: 0.7025 - val_loss: 0.6394 - val_acc: 0.7270\n",
      "\n",
      "Epoch 00006: val_acc did not improve from 0.73342\n",
      "Epoch 7/100\n",
      "6209/6209 [==============================] - 54s 9ms/step - loss: 0.6700 - acc: 0.7148 - val_loss: 0.6200 - val_acc: 0.7366\n",
      "\n",
      "Epoch 00007: val_acc improved from 0.73342 to 0.73664, saving model to Fold_1__model_o.hdf5\n",
      "Epoch 8/100\n",
      "6209/6209 [==============================] - 53s 9ms/step - loss: 0.6434 - acc: 0.7249 - val_loss: 0.5922 - val_acc: 0.7618\n",
      "\n",
      "Epoch 00008: val_acc improved from 0.73664 to 0.76175, saving model to Fold_1__model_o.hdf5\n",
      "Epoch 9/100\n",
      "6209/6209 [==============================] - 55s 9ms/step - loss: 0.6216 - acc: 0.7409 - val_loss: 0.5914 - val_acc: 0.7650\n",
      "\n",
      "Epoch 00009: val_acc improved from 0.76175 to 0.76497, saving model to Fold_1__model_o.hdf5\n",
      "Epoch 10/100\n",
      "6209/6209 [==============================] - 53s 9ms/step - loss: 0.5960 - acc: 0.7478 - val_loss: 0.5702 - val_acc: 0.7682\n",
      "\n",
      "Epoch 00010: val_acc improved from 0.76497 to 0.76819, saving model to Fold_1__model_o.hdf5\n",
      "Epoch 11/100\n",
      "6209/6209 [==============================] - 56s 9ms/step - loss: 0.5768 - acc: 0.7684 - val_loss: 0.5688 - val_acc: 0.7740\n",
      "\n",
      "Epoch 00011: val_acc improved from 0.76819 to 0.77399, saving model to Fold_1__model_o.hdf5\n",
      "Epoch 12/100\n",
      "6209/6209 [==============================] - 54s 9ms/step - loss: 0.5677 - acc: 0.7721 - val_loss: 0.5596 - val_acc: 0.7778\n",
      "\n",
      "Epoch 00012: val_acc improved from 0.77399 to 0.77785, saving model to Fold_1__model_o.hdf5\n",
      "Epoch 13/100\n",
      "6209/6209 [==============================] - 54s 9ms/step - loss: 0.5368 - acc: 0.7864 - val_loss: 0.5508 - val_acc: 0.7817\n",
      "\n",
      "Epoch 00013: val_acc improved from 0.77785 to 0.78171, saving model to Fold_1__model_o.hdf5\n",
      "Epoch 14/100\n",
      "6209/6209 [==============================] - 54s 9ms/step - loss: 0.5341 - acc: 0.7877 - val_loss: 0.5262 - val_acc: 0.7952\n",
      "\n",
      "Epoch 00014: val_acc improved from 0.78171 to 0.79524, saving model to Fold_1__model_o.hdf5\n",
      "Epoch 15/100\n",
      "6209/6209 [==============================] - 54s 9ms/step - loss: 0.5004 - acc: 0.7974 - val_loss: 0.5348 - val_acc: 0.7894\n",
      "\n",
      "Epoch 00015: val_acc did not improve from 0.79524\n",
      "Epoch 16/100\n",
      "6209/6209 [==============================] - 55s 9ms/step - loss: 0.4922 - acc: 0.8061 - val_loss: 0.5288 - val_acc: 0.7914\n",
      "\n",
      "Epoch 00016: val_acc did not improve from 0.79524\n",
      "*********************************************************************************************************************\n",
      "Fold 2\n",
      "Training model.\n",
      "Train on 6209 samples, validate on 1553 samples\n",
      "Epoch 1/100\n",
      "6209/6209 [==============================] - 73s 12ms/step - loss: 0.9361 - acc: 0.5614 - val_loss: 0.8110 - val_acc: 0.6194\n",
      "\n",
      "Epoch 00001: val_acc improved from -inf to 0.61945, saving model to Fold_2__model_o.hdf5\n",
      "Epoch 2/100\n",
      "6209/6209 [==============================] - 56s 9ms/step - loss: 0.8278 - acc: 0.6202 - val_loss: 0.7525 - val_acc: 0.6787\n",
      "\n",
      "Epoch 00002: val_acc improved from 0.61945 to 0.67869, saving model to Fold_2__model_o.hdf5\n",
      "Epoch 3/100\n",
      "6209/6209 [==============================] - 55s 9ms/step - loss: 0.7656 - acc: 0.6536 - val_loss: 0.6893 - val_acc: 0.7102\n"
     ]
    },
    {
     "name": "stdout",
     "output_type": "stream",
     "text": [
      "\n",
      "Epoch 00003: val_acc improved from 0.67869 to 0.71024, saving model to Fold_2__model_o.hdf5\n",
      "Epoch 4/100\n",
      "6209/6209 [==============================] - 55s 9ms/step - loss: 0.7397 - acc: 0.6792 - val_loss: 0.6735 - val_acc: 0.7090\n",
      "\n",
      "Epoch 00004: val_acc did not improve from 0.71024\n",
      "Epoch 5/100\n",
      "6209/6209 [==============================] - 54s 9ms/step - loss: 0.6935 - acc: 0.7014 - val_loss: 0.6392 - val_acc: 0.7386\n",
      "\n",
      "Epoch 00005: val_acc improved from 0.71024 to 0.73857, saving model to Fold_2__model_o.hdf5\n",
      "Epoch 6/100\n",
      "6209/6209 [==============================] - 56s 9ms/step - loss: 0.6895 - acc: 0.7066 - val_loss: 0.6272 - val_acc: 0.7514\n",
      "\n",
      "Epoch 00006: val_acc improved from 0.73857 to 0.75145, saving model to Fold_2__model_o.hdf5\n",
      "Epoch 7/100\n",
      "6209/6209 [==============================] - 55s 9ms/step - loss: 0.6686 - acc: 0.7219 - val_loss: 0.6083 - val_acc: 0.7469\n",
      "\n",
      "Epoch 00007: val_acc did not improve from 0.75145\n",
      "Epoch 8/100\n",
      "6209/6209 [==============================] - 55s 9ms/step - loss: 0.6384 - acc: 0.7310 - val_loss: 0.5895 - val_acc: 0.7598\n",
      "\n",
      "Epoch 00008: val_acc improved from 0.75145 to 0.75982, saving model to Fold_2__model_o.hdf5\n",
      "Epoch 9/100\n",
      "6209/6209 [==============================] - 55s 9ms/step - loss: 0.6114 - acc: 0.7475 - val_loss: 0.5852 - val_acc: 0.7721\n",
      "\n",
      "Epoch 00009: val_acc improved from 0.75982 to 0.77205, saving model to Fold_2__model_o.hdf5\n",
      "Epoch 10/100\n",
      "6209/6209 [==============================] - 55s 9ms/step - loss: 0.5987 - acc: 0.7531 - val_loss: 0.5939 - val_acc: 0.7650\n",
      "\n",
      "Epoch 00010: val_acc did not improve from 0.77205\n",
      "Epoch 11/100\n",
      "6209/6209 [==============================] - 54s 9ms/step - loss: 0.5764 - acc: 0.7655 - val_loss: 0.5904 - val_acc: 0.7778\n",
      "\n",
      "Epoch 00011: val_acc improved from 0.77205 to 0.77785, saving model to Fold_2__model_o.hdf5\n",
      "*********************************************************************************************************************\n",
      "Fold 3\n",
      "Training model.\n",
      "Train on 6211 samples, validate on 1551 samples\n",
      "Epoch 1/100\n",
      "6211/6211 [==============================] - 75s 12ms/step - loss: 0.9557 - acc: 0.5487 - val_loss: 0.8312 - val_acc: 0.5674\n",
      "\n",
      "Epoch 00001: val_acc improved from -inf to 0.56738, saving model to Fold_3__model_o.hdf5\n",
      "Epoch 2/100\n",
      "6211/6211 [==============================] - 54s 9ms/step - loss: 0.8340 - acc: 0.6068 - val_loss: 0.7639 - val_acc: 0.6235\n",
      "\n",
      "Epoch 00002: val_acc improved from 0.56738 to 0.62347, saving model to Fold_3__model_o.hdf5\n",
      "Epoch 3/100\n",
      "6211/6211 [==============================] - 54s 9ms/step - loss: 0.7844 - acc: 0.6387 - val_loss: 0.7182 - val_acc: 0.6705\n",
      "\n",
      "Epoch 00003: val_acc improved from 0.62347 to 0.67054, saving model to Fold_3__model_o.hdf5\n",
      "Epoch 4/100\n",
      "6211/6211 [==============================] - 56s 9ms/step - loss: 0.7488 - acc: 0.6658 - val_loss: 0.6812 - val_acc: 0.7202\n",
      "\n",
      "Epoch 00004: val_acc improved from 0.67054 to 0.72018, saving model to Fold_3__model_o.hdf5\n",
      "Epoch 5/100\n",
      "6211/6211 [==============================] - 54s 9ms/step - loss: 0.7169 - acc: 0.6910 - val_loss: 0.6519 - val_acc: 0.7253\n",
      "\n",
      "Epoch 00005: val_acc improved from 0.72018 to 0.72534, saving model to Fold_3__model_o.hdf5\n",
      "Epoch 6/100\n",
      "6211/6211 [==============================] - 55s 9ms/step - loss: 0.6898 - acc: 0.7066 - val_loss: 0.6299 - val_acc: 0.7292\n",
      "\n",
      "Epoch 00006: val_acc improved from 0.72534 to 0.72921, saving model to Fold_3__model_o.hdf5\n",
      "Epoch 7/100\n",
      "6211/6211 [==============================] - 54s 9ms/step - loss: 0.6556 - acc: 0.7250 - val_loss: 0.6061 - val_acc: 0.7460\n",
      "\n",
      "Epoch 00007: val_acc improved from 0.72921 to 0.74597, saving model to Fold_3__model_o.hdf5\n",
      "Epoch 8/100\n",
      "6211/6211 [==============================] - 53s 9ms/step - loss: 0.6439 - acc: 0.7289 - val_loss: 0.5860 - val_acc: 0.7460\n",
      "\n",
      "Epoch 00008: val_acc did not improve from 0.74597\n",
      "Epoch 9/100\n",
      "6211/6211 [==============================] - 55s 9ms/step - loss: 0.6061 - acc: 0.7519 - val_loss: 0.5753 - val_acc: 0.7569\n",
      "\n",
      "Epoch 00009: val_acc improved from 0.74597 to 0.75693, saving model to Fold_3__model_o.hdf5\n",
      "Epoch 10/100\n",
      "6211/6211 [==============================] - 55s 9ms/step - loss: 0.6013 - acc: 0.7535 - val_loss: 0.5554 - val_acc: 0.7698\n",
      "\n",
      "Epoch 00010: val_acc improved from 0.75693 to 0.76983, saving model to Fold_3__model_o.hdf5\n",
      "Epoch 11/100\n",
      "6211/6211 [==============================] - 54s 9ms/step - loss: 0.5773 - acc: 0.7561 - val_loss: 0.5545 - val_acc: 0.7743\n",
      "\n",
      "Epoch 00011: val_acc improved from 0.76983 to 0.77434, saving model to Fold_3__model_o.hdf5\n",
      "Epoch 12/100\n",
      "6211/6211 [==============================] - 53s 9ms/step - loss: 0.5708 - acc: 0.7682 - val_loss: 0.5518 - val_acc: 0.7705\n",
      "\n",
      "Epoch 00012: val_acc did not improve from 0.77434\n",
      "Epoch 13/100\n",
      "6211/6211 [==============================] - 54s 9ms/step - loss: 0.5511 - acc: 0.7789 - val_loss: 0.5322 - val_acc: 0.7879\n",
      "\n",
      "Epoch 00013: val_acc improved from 0.77434 to 0.78788, saving model to Fold_3__model_o.hdf5\n",
      "Epoch 14/100\n",
      "6211/6211 [==============================] - 54s 9ms/step - loss: 0.5377 - acc: 0.7807 - val_loss: 0.5504 - val_acc: 0.7814\n",
      "\n",
      "Epoch 00014: val_acc did not improve from 0.78788\n",
      "Epoch 15/100\n",
      "6211/6211 [==============================] - 54s 9ms/step - loss: 0.5130 - acc: 0.7925 - val_loss: 0.5264 - val_acc: 0.7872\n",
      "\n",
      "Epoch 00015: val_acc did not improve from 0.78788\n",
      "Epoch 16/100\n",
      "6211/6211 [==============================] - 54s 9ms/step - loss: 0.4828 - acc: 0.8111 - val_loss: 0.5247 - val_acc: 0.7963\n",
      "\n",
      "Epoch 00016: val_acc improved from 0.78788 to 0.79626, saving model to Fold_3__model_o.hdf5\n",
      "Epoch 17/100\n",
      "6211/6211 [==============================] - 55s 9ms/step - loss: 0.4681 - acc: 0.8198 - val_loss: 0.5219 - val_acc: 0.7917\n",
      "\n",
      "Epoch 00017: val_acc did not improve from 0.79626\n",
      "Epoch 18/100\n",
      "6211/6211 [==============================] - 55s 9ms/step - loss: 0.4720 - acc: 0.8152 - val_loss: 0.5079 - val_acc: 0.8008\n",
      "\n",
      "Epoch 00018: val_acc improved from 0.79626 to 0.80077, saving model to Fold_3__model_o.hdf5\n",
      "Epoch 19/100\n",
      "6211/6211 [==============================] - 53s 9ms/step - loss: 0.4530 - acc: 0.8240 - val_loss: 0.5259 - val_acc: 0.7988\n",
      "\n",
      "Epoch 00019: val_acc did not improve from 0.80077\n",
      "Epoch 20/100\n",
      "6211/6211 [==============================] - 53s 9ms/step - loss: 0.4189 - acc: 0.8361 - val_loss: 0.5083 - val_acc: 0.8014\n",
      "\n",
      "Epoch 00020: val_acc improved from 0.80077 to 0.80142, saving model to Fold_3__model_o.hdf5\n",
      "*********************************************************************************************************************\n",
      "Fold 4\n",
      "Training model.\n",
      "Train on 6211 samples, validate on 1551 samples\n",
      "Epoch 1/100\n",
      "6211/6211 [==============================] - 76s 12ms/step - loss: 0.9368 - acc: 0.5611 - val_loss: 0.8372 - val_acc: 0.5719\n",
      "\n",
      "Epoch 00001: val_acc improved from -inf to 0.57189, saving model to Fold_4__model_o.hdf5\n",
      "Epoch 2/100\n",
      "6211/6211 [==============================] - 54s 9ms/step - loss: 0.8243 - acc: 0.6181 - val_loss: 0.7740 - val_acc: 0.6331\n",
      "\n",
      "Epoch 00002: val_acc improved from 0.57189 to 0.63314, saving model to Fold_4__model_o.hdf5\n",
      "Epoch 3/100\n",
      "6211/6211 [==============================] - 55s 9ms/step - loss: 0.7772 - acc: 0.6466 - val_loss: 0.7250 - val_acc: 0.6879\n",
      "\n",
      "Epoch 00003: val_acc improved from 0.63314 to 0.68794, saving model to Fold_4__model_o.hdf5\n",
      "Epoch 4/100\n",
      "6211/6211 [==============================] - 54s 9ms/step - loss: 0.7367 - acc: 0.6782 - val_loss: 0.6849 - val_acc: 0.7073\n",
      "\n",
      "Epoch 00004: val_acc improved from 0.68794 to 0.70729, saving model to Fold_4__model_o.hdf5\n",
      "Epoch 5/100\n",
      "6211/6211 [==============================] - 54s 9ms/step - loss: 0.7059 - acc: 0.7010 - val_loss: 0.6529 - val_acc: 0.7260\n",
      "\n",
      "Epoch 00005: val_acc improved from 0.70729 to 0.72598, saving model to Fold_4__model_o.hdf5\n",
      "Epoch 6/100\n",
      "6211/6211 [==============================] - 53s 9ms/step - loss: 0.6828 - acc: 0.7112 - val_loss: 0.6575 - val_acc: 0.7253\n",
      "\n",
      "Epoch 00006: val_acc did not improve from 0.72598\n",
      "Epoch 7/100\n",
      "6211/6211 [==============================] - 54s 9ms/step - loss: 0.6516 - acc: 0.7281 - val_loss: 0.6367 - val_acc: 0.7479\n",
      "\n",
      "Epoch 00007: val_acc improved from 0.72598 to 0.74790, saving model to Fold_4__model_o.hdf5\n",
      "Epoch 8/100\n",
      "6211/6211 [==============================] - 55s 9ms/step - loss: 0.6290 - acc: 0.7358 - val_loss: 0.6345 - val_acc: 0.7569\n"
     ]
    },
    {
     "name": "stdout",
     "output_type": "stream",
     "text": [
      "\n",
      "Epoch 00008: val_acc improved from 0.74790 to 0.75693, saving model to Fold_4__model_o.hdf5\n",
      "Epoch 9/100\n",
      "6211/6211 [==============================] - 54s 9ms/step - loss: 0.6222 - acc: 0.7429 - val_loss: 0.6129 - val_acc: 0.7602\n",
      "\n",
      "Epoch 00009: val_acc improved from 0.75693 to 0.76015, saving model to Fold_4__model_o.hdf5\n",
      "Epoch 10/100\n",
      "6211/6211 [==============================] - 54s 9ms/step - loss: 0.5957 - acc: 0.7572 - val_loss: 0.5847 - val_acc: 0.7750\n",
      "\n",
      "Epoch 00010: val_acc improved from 0.76015 to 0.77498, saving model to Fold_4__model_o.hdf5\n",
      "Epoch 11/100\n",
      "6211/6211 [==============================] - 55s 9ms/step - loss: 0.5670 - acc: 0.7736 - val_loss: 0.5835 - val_acc: 0.7769\n",
      "\n",
      "Epoch 00011: val_acc improved from 0.77498 to 0.77692, saving model to Fold_4__model_o.hdf5\n",
      "Epoch 12/100\n",
      "6211/6211 [==============================] - 54s 9ms/step - loss: 0.5629 - acc: 0.7685 - val_loss: 0.5794 - val_acc: 0.7776\n",
      "\n",
      "Epoch 00012: val_acc improved from 0.77692 to 0.77756, saving model to Fold_4__model_o.hdf5\n",
      "Epoch 13/100\n",
      "6211/6211 [==============================] - 55s 9ms/step - loss: 0.5387 - acc: 0.7825 - val_loss: 0.5849 - val_acc: 0.7840\n",
      "\n",
      "Epoch 00013: val_acc improved from 0.77756 to 0.78401, saving model to Fold_4__model_o.hdf5\n",
      "Epoch 14/100\n",
      "6211/6211 [==============================] - 54s 9ms/step - loss: 0.5241 - acc: 0.7921 - val_loss: 0.5821 - val_acc: 0.7866\n",
      "\n",
      "Epoch 00014: val_acc improved from 0.78401 to 0.78659, saving model to Fold_4__model_o.hdf5\n"
     ]
    }
   ],
   "source": [
    "y_scores_BiGRU,y_classes_BiGRU = cross_validation(model_name='BiGRU')"
   ]
  },
  {
   "cell_type": "code",
   "execution_count": 76,
   "metadata": {},
   "outputs": [
    {
     "name": "stdout",
     "output_type": "stream",
     "text": [
      "The DPCNN precision score is:  0.782\n",
      "The DPCNN recall score is:  0.707\n"
     ]
    }
   ],
   "source": [
    "# get precision & recall\n",
    "precision_BiGRU,recall_BiGRU= Precision_Recall(Y_test, y_classes_BiGRU)\n",
    "print('The DPCNN precision score is: ',precision_BiGRU)\n",
    "print('The DPCNN recall score is: ',recall_BiGRU)"
   ]
  },
  {
   "cell_type": "code",
   "execution_count": 46,
   "metadata": {},
   "outputs": [
    {
     "data": {
      "image/png": "[encoded data removed]",
      "text/plain": [
       "<Figure size 432x288 with 1 Axes>"
      ]
     },
     "metadata": {
      "needs_background": "light"
     },
     "output_type": "display_data"
    }
   ],
   "source": [
    "# plot the ROC  & AUC \n",
    "ROC_and_AUC(Y_test,y_scores_BiGRU)"
   ]
  },
  {
   "cell_type": "markdown",
   "metadata": {},
   "source": [
    "### Visualize results"
   ]
  },
  {
   "cell_type": "code",
   "execution_count": 71,
   "metadata": {},
   "outputs": [
    {
     "data": {
      "image/png": "[encoded data removed]",
      "text/plain": [
       "<Figure size 360x288 with 1 Axes>"
      ]
     },
     "metadata": {
      "needs_background": "light"
     },
     "output_type": "display_data"
    }
   ],
   "source": [
    "classifiers = ['TextCNN',  'DPCNN','BiGRU']\n",
    "Precision = [0.748,0.725,0.782]\n",
    "Recall = [0.708,0.598,0.707]\n",
    "x = list(range(len(Precision)))\n",
    "total_width, n = 0.8, 2\n",
    "plt.figure(2, [5,4])\n",
    "plt.bar(x, Precision, width=width,align='center', label='Precision',alpha=0.5)\n",
    "for i in range(len(x)):\n",
    "    x[i] += width\n",
    "plt.bar(x, Recall,width=width, align='center',label='Recall', alpha=0.5)\n",
    "plt.xticks(range(len(classifiers)), classifiers, rotation=90)\n",
    "plt.ylabel('Precision & Recall')\n",
    "plt.title('Comparison of Various Classifiers')\n",
    "plt.ylim([0, 1])\n",
    "plt.legend()\n",
    "plt.show()"
   ]
  },
  {
   "cell_type": "markdown",
   "metadata": {},
   "source": [
    "### Some ways to improve performance"
   ]
  },
  {
   "cell_type": "markdown",
   "metadata": {},
   "source": [
    "1、可以增加数据集，现有数据集过小（PS:若原始数据集只有2000条，那么可以采用数据增强的方法，如同义词替换和回译(TTA)）  \n",
    "2、可以从模型方面入手，如调整模型的参数：embedding维度、dropout的大小等    \n",
    "3、使用更加复杂的模型。如BERT  \n",
    "4、若是自己根据现有预料训练词向量，则在数据量小的时候可以采用预训练的词向量来提升效果(PS:这点可以忽略，本次实验采用的就是预训练的词向量)  "
   ]
  },
  {
   "cell_type": "code",
   "execution_count": null,
   "metadata": {},
   "outputs": [],
   "source": []
  }
 ],
 "metadata": {
  "kernelspec": {
   "display_name": "Python 3",
   "language": "python",
   "name": "python3"
  },
  "language_info": {
   "codemirror_mode": {
    "name": "ipython",
    "version": 3
   },
   "file_extension": ".py",
   "mimetype": "text/x-python",
   "name": "python",
   "nbconvert_exporter": "python",
   "pygments_lexer": "ipython3",
   "version": "3.6.8"
  }
 },
 "nbformat": 4,
 "nbformat_minor": 2
}
